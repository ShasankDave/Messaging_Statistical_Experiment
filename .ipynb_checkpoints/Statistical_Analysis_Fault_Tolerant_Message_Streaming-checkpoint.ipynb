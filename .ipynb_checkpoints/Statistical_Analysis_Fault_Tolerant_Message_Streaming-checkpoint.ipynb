{
 "cells": [
  {
   "cell_type": "markdown",
   "metadata": {},
   "source": [
    "### Assignment No1 : Fault tolerant meessage streaming work : Statistical Analysis"
   ]
  },
  {
   "cell_type": "markdown",
   "metadata": {},
   "source": [
    "###### Algorithmic Approach:\n",
    "1. Get access to X1(Old Dataset) & X2(New Dataset)\n",
    "2. Check the DataSet for anamolies\n",
    "3. Check the visual difference in delivery statuses of {X1--> Old vs X2 --> New}\n",
    "4. Check for statistical difference with the Confidence Interval of both datasets.\n",
    "5. Check for, both datasets follow normal distribution with CLT & stats. test."
   ]
  },
  {
   "cell_type": "code",
   "execution_count": 1,
   "metadata": {},
   "outputs": [],
   "source": [
    "#Import dependencies\n",
    "import numpy as np\n",
    "import pandas as pd\n",
    "import matplotlib.pyplot as plt\n",
    "import seaborn as sns\n",
    "import statsmodels.api as sm \n",
    "import pylab as py\n",
    "import scipy.stats as stats\n",
    "import math\n",
    "from sklearn.utils import resample"
   ]
  },
  {
   "cell_type": "code",
   "execution_count": 2,
   "metadata": {},
   "outputs": [],
   "source": [
    "X1=pd.concat([pd.DataFrame(\n",
    "                data=np.random.exponential(1,1000),\n",
    "                columns =[\"Message\"]),pd.DataFrame(data=np.random.randint(2, size=1000),columns=[\"Delivery_Status\"])],axis=1)"
   ]
  },
  {
   "cell_type": "code",
   "execution_count": 3,
   "metadata": {},
   "outputs": [
    {
     "data": {
      "text/html": [
       "<div>\n",
       "<style scoped>\n",
       "    .dataframe tbody tr th:only-of-type {\n",
       "        vertical-align: middle;\n",
       "    }\n",
       "\n",
       "    .dataframe tbody tr th {\n",
       "        vertical-align: top;\n",
       "    }\n",
       "\n",
       "    .dataframe thead th {\n",
       "        text-align: right;\n",
       "    }\n",
       "</style>\n",
       "<table border=\"1\" class=\"dataframe\">\n",
       "  <thead>\n",
       "    <tr style=\"text-align: right;\">\n",
       "      <th></th>\n",
       "      <th>Message</th>\n",
       "      <th>Delivery_Status</th>\n",
       "    </tr>\n",
       "  </thead>\n",
       "  <tbody>\n",
       "    <tr>\n",
       "      <th>0</th>\n",
       "      <td>1.289757</td>\n",
       "      <td>1</td>\n",
       "    </tr>\n",
       "    <tr>\n",
       "      <th>1</th>\n",
       "      <td>1.953813</td>\n",
       "      <td>1</td>\n",
       "    </tr>\n",
       "    <tr>\n",
       "      <th>2</th>\n",
       "      <td>0.265529</td>\n",
       "      <td>0</td>\n",
       "    </tr>\n",
       "    <tr>\n",
       "      <th>3</th>\n",
       "      <td>0.529658</td>\n",
       "      <td>1</td>\n",
       "    </tr>\n",
       "    <tr>\n",
       "      <th>4</th>\n",
       "      <td>1.093442</td>\n",
       "      <td>1</td>\n",
       "    </tr>\n",
       "  </tbody>\n",
       "</table>\n",
       "</div>"
      ],
      "text/plain": [
       "    Message  Delivery_Status\n",
       "0  1.289757                1\n",
       "1  1.953813                1\n",
       "2  0.265529                0\n",
       "3  0.529658                1\n",
       "4  1.093442                1"
      ]
     },
     "execution_count": 3,
     "metadata": {},
     "output_type": "execute_result"
    }
   ],
   "source": [
    "# X1 is the sample of dataset before removing delivery servers\n",
    "# X1 consists of two fields(Message-Details of messages) & Delivery_Status(Y's) Y's are the data that we are given access\n",
    "X1.head()"
   ]
  },
  {
   "cell_type": "code",
   "execution_count": 4,
   "metadata": {},
   "outputs": [],
   "source": [
    "X2=pd.concat([pd.DataFrame(\n",
    "                data=np.random.exponential(1,1000),\n",
    "                columns =[\"Message\"]),pd.DataFrame(data=np.random.randint(2, size=1000),columns=[\"Delivery_Status\"])],axis=1)"
   ]
  },
  {
   "cell_type": "code",
   "execution_count": 5,
   "metadata": {},
   "outputs": [
    {
     "data": {
      "text/html": [
       "<div>\n",
       "<style scoped>\n",
       "    .dataframe tbody tr th:only-of-type {\n",
       "        vertical-align: middle;\n",
       "    }\n",
       "\n",
       "    .dataframe tbody tr th {\n",
       "        vertical-align: top;\n",
       "    }\n",
       "\n",
       "    .dataframe thead th {\n",
       "        text-align: right;\n",
       "    }\n",
       "</style>\n",
       "<table border=\"1\" class=\"dataframe\">\n",
       "  <thead>\n",
       "    <tr style=\"text-align: right;\">\n",
       "      <th></th>\n",
       "      <th>Message</th>\n",
       "      <th>Delivery_Status</th>\n",
       "    </tr>\n",
       "  </thead>\n",
       "  <tbody>\n",
       "    <tr>\n",
       "      <th>0</th>\n",
       "      <td>2.960855</td>\n",
       "      <td>1</td>\n",
       "    </tr>\n",
       "    <tr>\n",
       "      <th>1</th>\n",
       "      <td>0.262144</td>\n",
       "      <td>1</td>\n",
       "    </tr>\n",
       "    <tr>\n",
       "      <th>2</th>\n",
       "      <td>0.728256</td>\n",
       "      <td>1</td>\n",
       "    </tr>\n",
       "    <tr>\n",
       "      <th>3</th>\n",
       "      <td>0.889483</td>\n",
       "      <td>0</td>\n",
       "    </tr>\n",
       "    <tr>\n",
       "      <th>4</th>\n",
       "      <td>2.032034</td>\n",
       "      <td>0</td>\n",
       "    </tr>\n",
       "  </tbody>\n",
       "</table>\n",
       "</div>"
      ],
      "text/plain": [
       "    Message  Delivery_Status\n",
       "0  2.960855                1\n",
       "1  0.262144                1\n",
       "2  0.728256                1\n",
       "3  0.889483                0\n",
       "4  2.032034                0"
      ]
     },
     "execution_count": 5,
     "metadata": {},
     "output_type": "execute_result"
    }
   ],
   "source": [
    "# X2 is the sample of dataset after removing delivery servers\n",
    "# X2 consists of two fields(Message-Details of messages) & Delivery_Status(Y's) Y's are the data that we are given access.\n",
    "X2.head()"
   ]
  },
  {
   "cell_type": "markdown",
   "metadata": {},
   "source": [
    "#### Let Vizualize the delivery status difference for X1(Old) & X2(New) Dataset:"
   ]
  },
  {
   "cell_type": "code",
   "execution_count": 6,
   "metadata": {},
   "outputs": [
    {
     "data": {
      "text/plain": [
       "<AxesSubplot:ylabel='Count'>"
      ]
     },
     "execution_count": 6,
     "metadata": {},
     "output_type": "execute_result"
    },
    {
     "data": {
      "image/png": "[encoded data removed]",
      "text/plain": [
       "<Figure size 432x288 with 1 Axes>"
      ]
     },
     "metadata": {
      "needs_background": "light"
     },
     "output_type": "display_data"
    }
   ],
   "source": [
    "# Delivery status {0(Missed),1(Delivered)} for X1(Old Data) Sample\n",
    "sns.histplot(data=X1[['Delivery_Status']],kde=True)"
   ]
  },
  {
   "cell_type": "code",
   "execution_count": 7,
   "metadata": {},
   "outputs": [
    {
     "data": {
      "text/plain": [
       "<AxesSubplot:ylabel='Count'>"
      ]
     },
     "execution_count": 7,
     "metadata": {},
     "output_type": "execute_result"
    },
    {
     "data": {
      "image/png": "[encoded data removed]",
      "text/plain": [
       "<Figure size 432x288 with 1 Axes>"
      ]
     },
     "metadata": {
      "needs_background": "light"
     },
     "output_type": "display_data"
    }
   ],
   "source": [
    "# Delivery status {0(Missed),1(Delivered)} for X2(New Data) Sample\n",
    "sns.histplot(X2[['Delivery_Status']],kde=True)"
   ]
  },
  {
   "cell_type": "markdown",
   "metadata": {},
   "source": [
    "### From the first view at delivery statuses above, we see there is no visual difference in delivery rate after removal of delivery servers"
   ]
  },
  {
   "cell_type": "markdown",
   "metadata": {},
   "source": [
    "### Further let's have a look for Statistical difference with the help of Confidence Interval visuaisation"
   ]
  },
  {
   "cell_type": "code",
   "execution_count": 8,
   "metadata": {},
   "outputs": [
    {
     "name": "stderr",
     "output_type": "stream",
     "text": [
      "/home/sdave/anaconda3/envs/datascience_env/lib/python3.8/site-packages/seaborn/_decorators.py:36: FutureWarning: Pass the following variables as keyword args: x, y. From version 0.12, the only valid positional argument will be `data`, and passing other arguments without an explicit keyword will result in an error or misinterpretation.\n",
      "  warnings.warn(\n"
     ]
    },
    {
     "data": {
      "image/png": "[encoded data removed]",
      "text/plain": [
       "<Figure size 432x288 with 1 Axes>"
      ]
     },
     "metadata": {
      "needs_background": "light"
     },
     "output_type": "display_data"
    }
   ],
   "source": [
    "ax = sns.regplot(np.array(X1['Message']), np.array(X2['Message']),scatter_kws={\"color\": \"blue\"}, line_kws={\"color\": \"red\"})"
   ]
  },
  {
   "cell_type": "markdown",
   "metadata": {},
   "source": [
    "##### By Visualizing the {X1 & X2} with Confidential Interval regplot of 95% confidence we see a lot of datapoints are overlapped & large concentration of points can be seen on left corner, Proves that there is no statistical change in X1(old) vs X2(new) as well."
   ]
  },
  {
   "cell_type": "code",
   "execution_count": 9,
   "metadata": {},
   "outputs": [
    {
     "data": {
      "text/plain": [
       "<seaborn.axisgrid.FacetGrid at 0x7f9da88a0310>"
      ]
     },
     "execution_count": 9,
     "metadata": {},
     "output_type": "execute_result"
    },
    {
     "data": {
      "image/png": "[encoded data removed]",
      "text/plain": [
       "<Figure size 360x360 with 1 Axes>"
      ]
     },
     "metadata": {
      "needs_background": "light"
     },
     "output_type": "display_data"
    }
   ],
   "source": [
    "#X1 is Older data before removing the servers.\n",
    "sns.displot(X1['Message'],kde='True')"
   ]
  },
  {
   "cell_type": "code",
   "execution_count": 10,
   "metadata": {},
   "outputs": [
    {
     "data": {
      "text/plain": [
       "<seaborn.axisgrid.FacetGrid at 0x7f9d5be227c0>"
      ]
     },
     "execution_count": 10,
     "metadata": {},
     "output_type": "execute_result"
    },
    {
     "data": {
      "image/png": "[encoded data removed]",
      "text/plain": [
       "<Figure size 360x360 with 1 Axes>"
      ]
     },
     "metadata": {
      "needs_background": "light"
     },
     "output_type": "display_data"
    }
   ],
   "source": [
    "#X2 is new data after removing the server\n",
    "sns.displot(X2['Message'],kde='True')"
   ]
  },
  {
   "cell_type": "markdown",
   "metadata": {},
   "source": [
    "#### Now from above diagram we know that our X1 & X2 of SIZE(1000) follows exponential distribution \n",
    "* We try to prove that our X1 & X2 follows normal distribution(Near Normal) using CLT(Central Limit Theorem)"
   ]
  },
  {
   "cell_type": "code",
   "execution_count": 11,
   "metadata": {},
   "outputs": [],
   "source": [
    "# CLT states finding mean of the small data samples(usually) > 30, we can see the exponential data will start following normal dist.\n",
    "def get_sample_mean(sample_size,data,no_samples):\n",
    "    avg_val=[]\n",
    "    for val in range(no_samples):\n",
    "        l_data=data.sample(sample_size)\n",
    "        avg_val.append(np.average(l_data))\n",
    "    return avg_val\n",
    "    "
   ]
  },
  {
   "cell_type": "code",
   "execution_count": 12,
   "metadata": {},
   "outputs": [],
   "source": [
    "#Call get_sample_mean function with following params(size of sample=35,Dataset, Number of samples=10000)\n",
    "lst_x1=get_sample_mean(35,X1['Message'],10000)"
   ]
  },
  {
   "cell_type": "code",
   "execution_count": 13,
   "metadata": {},
   "outputs": [
    {
     "data": {
      "text/plain": [
       "<seaborn.axisgrid.FacetGrid at 0x7f9d5bdbfa00>"
      ]
     },
     "execution_count": 13,
     "metadata": {},
     "output_type": "execute_result"
    },
    {
     "data": {
      "image/png": "[encoded data removed]",
      "text/plain": [
       "<Figure size 360x360 with 1 Axes>"
      ]
     },
     "metadata": {
      "needs_background": "light"
     },
     "output_type": "display_data"
    }
   ],
   "source": [
    "#Seaborns displot helps us visualize the distribution of the plot, kde=true paramter helps us create pdf/pmf for the histogrm\n",
    "sns.displot(lst_x1,kde='True')"
   ]
  },
  {
   "cell_type": "code",
   "execution_count": 14,
   "metadata": {},
   "outputs": [
    {
     "data": {
      "text/plain": [
       "<seaborn.axisgrid.FacetGrid at 0x7f9d5bb67a00>"
      ]
     },
     "execution_count": 14,
     "metadata": {},
     "output_type": "execute_result"
    },
    {
     "data": {
      "image/png": "[encoded data removed]",
      "text/plain": [
       "<Figure size 360x360 with 1 Axes>"
      ]
     },
     "metadata": {
      "needs_background": "light"
     },
     "output_type": "display_data"
    }
   ],
   "source": [
    "lst_x2=get_sample_mean(35,X2['Message'],10000)\n",
    "sns.displot(lst_x2,kde='True',color='r')"
   ]
  },
  {
   "cell_type": "markdown",
   "metadata": {},
   "source": [
    "#### This visualization of X1(Old) vs X2(New) shows that after CLT exponential  distribution is now following normal distribution , Further Let's see visualize the distribution with the help of box plot"
   ]
  },
  {
   "cell_type": "code",
   "execution_count": 15,
   "metadata": {},
   "outputs": [
    {
     "data": {
      "text/plain": [
       "<AxesSubplot:>"
      ]
     },
     "execution_count": 15,
     "metadata": {},
     "output_type": "execute_result"
    },
    {
     "data": {
      "image/png": "[encoded data removed]",
      "text/plain": [
       "<Figure size 432x288 with 1 Axes>"
      ]
     },
     "metadata": {
      "needs_background": "light"
     },
     "output_type": "display_data"
    }
   ],
   "source": [
    "#Box plot for X1 (Old) Dataset\n",
    "pd.Series(lst_x1).plot(kind='box')"
   ]
  },
  {
   "cell_type": "code",
   "execution_count": 16,
   "metadata": {},
   "outputs": [
    {
     "data": {
      "text/plain": [
       "<AxesSubplot:>"
      ]
     },
     "execution_count": 16,
     "metadata": {},
     "output_type": "execute_result"
    },
    {
     "data": {
      "image/png": "[encoded data removed]",
      "text/plain": [
       "<Figure size 432x288 with 1 Axes>"
      ]
     },
     "metadata": {
      "needs_background": "light"
     },
     "output_type": "display_data"
    }
   ],
   "source": [
    "#Box plot for X2(New) Dataset\n",
    "pd.Series(lst_x2).plot(kind='box')"
   ]
  },
  {
   "cell_type": "code",
   "execution_count": 17,
   "metadata": {},
   "outputs": [
    {
     "data": {
      "text/plain": [
       "((array([-3.81060943, -3.58545756, -3.46184782, ...,  3.46184782,\n",
       "          3.58545756,  3.81060943]),\n",
       "  array([0.50515696, 0.51765243, 0.52736403, ..., 1.61050515, 1.63167329,\n",
       "         1.73670507])),\n",
       " (0.1657439521606433, 0.9792126846872158, 0.9960272630210724))"
      ]
     },
     "execution_count": 17,
     "metadata": {},
     "output_type": "execute_result"
    },
    {
     "data": {
      "image/png": "[encoded data removed]",
      "text/plain": [
       "<Figure size 432x288 with 1 Axes>"
      ]
     },
     "metadata": {
      "needs_background": "light"
     },
     "output_type": "display_data"
    }
   ],
   "source": [
    "#sm.qqplot(np.array(lst_x1), line ='s')\n",
    "stats.probplot(x=np.array(lst_x1),dist='norm',plot=plt)"
   ]
  },
  {
   "cell_type": "code",
   "execution_count": 18,
   "metadata": {},
   "outputs": [
    {
     "data": {
      "text/plain": [
       "((array([-3.81060943, -3.58545756, -3.46184782, ...,  3.46184782,\n",
       "          3.58545756,  3.81060943]),\n",
       "  array([0.48051382, 0.49721031, 0.52396086, ..., 1.64359143, 1.64874233,\n",
       "         1.72576879])),\n",
       " (0.155940616817349, 0.9981306085621503, 0.9985740087427039))"
      ]
     },
     "execution_count": 18,
     "metadata": {},
     "output_type": "execute_result"
    },
    {
     "data": {
      "image/png": "[encoded data removed]",
      "text/plain": [
       "<Figure size 432x288 with 1 Axes>"
      ]
     },
     "metadata": {
      "needs_background": "light"
     },
     "output_type": "display_data"
    }
   ],
   "source": [
    "stats.probplot(x=np.array(lst_x2),dist='norm',plot=plt)"
   ]
  },
  {
   "cell_type": "markdown",
   "metadata": {},
   "source": [
    "### We can conclude from the above visualization(Box plot & QQ plot) that our orginally exponential distribution is now following normal distribution with the implementation of CLT(central limit theorem)"
   ]
  },
  {
   "cell_type": "markdown",
   "metadata": {},
   "source": [
    "#### After visualization proving of normality, Let's test for normality using some statistical tests"
   ]
  },
  {
   "cell_type": "markdown",
   "metadata": {},
   "source": [
    "Let's Assume:\n",
    "- NULL hypothesis is \"Our data follows normal distribution)\n",
    "- So if p_value > 0.05 --> We cannot reject NULL hyp & prove that our data follows normal distribution\n",
    "- If p_value <= 0.05 --> We reject our NULL hyp & prove that out data doesnot follow normal distribution\n",
    "## We use normaltest"
   ]
  },
  {
   "cell_type": "code",
   "execution_count": 19,
   "metadata": {},
   "outputs": [
    {
     "name": "stdout",
     "output_type": "stream",
     "text": [
      "NormaltestResult(statistic=226.6580258883601, pvalue=6.0511098743417965e-50)\n"
     ]
    }
   ],
   "source": [
    "p = stats.normaltest(lst_x1)\n",
    "print(p)"
   ]
  },
  {
   "cell_type": "code",
   "execution_count": 20,
   "metadata": {},
   "outputs": [
    {
     "name": "stdout",
     "output_type": "stream",
     "text": [
      "NormaltestResult(statistic=85.10221016697152, pvalue=3.31352203768121e-19)\n"
     ]
    }
   ],
   "source": [
    "p=stats.normaltest(lst_x2)\n",
    "print(p)"
   ]
  },
  {
   "cell_type": "markdown",
   "metadata": {},
   "source": [
    "### As both p-value > 0.05 we can conclude that our data follows normal distribution"
   ]
  },
  {
   "cell_type": "markdown",
   "metadata": {},
   "source": [
    "### You Only have access to No of samples, Std dev. & Means of X1(Sample Old) & X2(Sample New)"
   ]
  },
  {
   "cell_type": "code",
   "execution_count": 21,
   "metadata": {},
   "outputs": [
    {
     "name": "stdout",
     "output_type": "stream",
     "text": [
      "Sample X1 Mean : 0.5249244182994538\n",
      "Sample X1 std: 0.30181581824103104\n",
      "Sample size:100\n"
     ]
    }
   ],
   "source": [
    "#Generate X1_Random Sample of size 100 , Let's Assume that X1_Random is old sample.\n",
    "X1_Random=np.random.uniform(size=100)\n",
    "X1_mean = X1_Random.mean()\n",
    "X1_std= X1_Random.std()\n",
    "print(\"Sample X1 Mean : {}\".format(X1_mean))\n",
    "print(\"Sample X1 std: {}\".format(X1_std))\n",
    "print(\"Sample size:{}\".format(100))"
   ]
  },
  {
   "cell_type": "code",
   "execution_count": 22,
   "metadata": {},
   "outputs": [
    {
     "name": "stdout",
     "output_type": "stream",
     "text": [
      "Sample X2 Mean : 0.5310704162171854\n",
      "Sample X2 std: 0.2762855182936263\n",
      "Sample size:100\n"
     ]
    }
   ],
   "source": [
    "#Generate X2_Random Sample of size 100, let's Assume that X2_Random is new sample.\n",
    "X2_Random=np.random.uniform(size=100)\n",
    "X2_mean = X2_Random.mean()\n",
    "X2_std= X2_Random.std()\n",
    "print(\"Sample X2 Mean : {}\".format(X2_mean))\n",
    "print(\"Sample X2 std: {}\".format(X2_std))\n",
    "print(\"Sample size:{}\".format(100))"
   ]
  },
  {
   "cell_type": "code",
   "execution_count": 23,
   "metadata": {},
   "outputs": [],
   "source": [
    "# Stats.norm.ppf helps us get get z_critical value for 0.95 C.I i.e 95%, it can also be changes if needed!\n",
    "z_critical = stats.norm.ppf(q = 0.95)"
   ]
  },
  {
   "cell_type": "code",
   "execution_count": 24,
   "metadata": {},
   "outputs": [
    {
     "name": "stdout",
     "output_type": "stream",
     "text": [
      "0.049644284330508624\n"
     ]
    }
   ],
   "source": [
    "#Margin of error is +- value from the center\n",
    "margin_of_error_x1 = z_critical * (X1_std/math.sqrt(100)) \n",
    "print(margin_of_error_x1)"
   ]
  },
  {
   "cell_type": "code",
   "execution_count": 25,
   "metadata": {},
   "outputs": [
    {
     "name": "stdout",
     "output_type": "stream",
     "text": [
      "0.04544492368394385\n"
     ]
    }
   ],
   "source": [
    "margin_of_error_x2 = z_critical * (X2_std/math.sqrt(100)) \n",
    "print(margin_of_error_x2)"
   ]
  },
  {
   "cell_type": "code",
   "execution_count": 26,
   "metadata": {},
   "outputs": [],
   "source": [
    "confidence_interval_x1 = (X1_mean - margin_of_error_x1,\n",
    "                       X1_mean + margin_of_error_x1) \n",
    "\n",
    "\n",
    "confidence_interval_x2 = (X2_mean - margin_of_error_x2,\n",
    "                       X2_mean + margin_of_error_x2) "
   ]
  },
  {
   "cell_type": "code",
   "execution_count": 27,
   "metadata": {},
   "outputs": [
    {
     "name": "stdout",
     "output_type": "stream",
     "text": [
      "95% Confidence_Invertal for X1 sample is between: (0.4752801339689452, 0.5745687026299624)\n",
      "95% Confidence_Invertal for X2 sample is between: (0.48562549253324155, 0.5765153399011292)\n"
     ]
    }
   ],
   "source": [
    "print(\"95% Confidence_Invertal for X1 sample is between: {}\".format(confidence_interval_x1))\n",
    "print(\"95% Confidence_Invertal for X2 sample is between: {}\".format(confidence_interval_x2))"
   ]
  },
  {
   "cell_type": "markdown",
   "metadata": {},
   "source": [
    "##### Conclusion : As from the 95% Cofidence interval group values for X1 & X2, generated randomly sampled with number of samples, mean & std. deviation.\n",
    "We do see over lap in the values of C.I group, Hence we can conclude that there is no significant difference between the given datasets."
   ]
  },
  {
   "cell_type": "markdown",
   "metadata": {},
   "source": [
    "### Problem # 2:"
   ]
  },
  {
   "cell_type": "markdown",
   "metadata": {},
   "source": [
    "So, now that you've convinced one of your bosses that there is a statistical difference, she has fixed the issue by installing more servers. However, the other bosses now want a way to monitor the issue WITHOUT needing to give anyone access to the Y data (not even you).  They intend to do this by keeping aggregates of the data on the individual servers (call them node-servers) and aggregating them on the central server (central-server). This problem concerns a single node-server."
   ]
  },
  {
   "cell_type": "markdown",
   "metadata": {},
   "source": [
    "#### Solution Description: \n",
    " So to solve this problem with the given constraints of no/less access to data.\n",
    " We would be using the \"95 % Confidence interval with bootstapping\" approach\n",
    " Benefits of this approach is, We donot store all aggregates from the node-server, reducing the complexity of program. "
   ]
  },
  {
   "cell_type": "code",
   "execution_count": 28,
   "metadata": {},
   "outputs": [],
   "source": [
    "# Create Sample data only select 1000 from node server once, and agument the data using bootstrap method.\n",
    "X1_node=np.random.uniform(size=1000)"
   ]
  },
  {
   "cell_type": "code",
   "execution_count": 29,
   "metadata": {},
   "outputs": [],
   "source": [
    "medians=[]\n",
    "# size of samples = 500\n",
    "\n",
    "for i in range(1000):\n",
    "    s = resample(X1_node, n_samples = 500)\n",
    "    m = np.median(s)\n",
    "    medians.append(m)\n"
   ]
  },
  {
   "cell_type": "code",
   "execution_count": 30,
   "metadata": {},
   "outputs": [
    {
     "data": {
      "text/plain": [
       "(array([ 17.,  75.,  82., 129., 274., 285.,  95.,  30.,  12.,   1.]),\n",
       " array([0.41338891, 0.42854867, 0.44370842, 0.45886817, 0.47402792,\n",
       "        0.48918768, 0.50434743, 0.51950718, 0.53466693, 0.54982668,\n",
       "        0.56498644]),\n",
       " <BarContainer object of 10 artists>)"
      ]
     },
     "execution_count": 30,
     "metadata": {},
     "output_type": "execute_result"
    },
    {
     "data": {
      "image/png": "[encoded data removed]",
      "text/plain": [
       "<Figure size 432x288 with 1 Axes>"
      ]
     },
     "metadata": {
      "needs_background": "light"
     },
     "output_type": "display_data"
    }
   ],
   "source": [
    "plt.hist(medians)"
   ]
  },
  {
   "cell_type": "code",
   "execution_count": 31,
   "metadata": {},
   "outputs": [],
   "source": [
    "ci_val=0.99"
   ]
  },
  {
   "cell_type": "code",
   "execution_count": 32,
   "metadata": {},
   "outputs": [],
   "source": [
    "p = ((1.0 - ci_val)/2.0) * 100; # its 0.5/2 i.e 2.5% -> 2*2.5 is rest 5%\n",
    "lower = np.percentile(medians,p); #2.5%"
   ]
  },
  {
   "cell_type": "code",
   "execution_count": 33,
   "metadata": {},
   "outputs": [],
   "source": [
    "p = (ci_val+((1.0 - ci_val)/2.0)) * 100; \n",
    "upper = np.percentile(medians,p); # 97.5%"
   ]
  },
  {
   "cell_type": "code",
   "execution_count": 34,
   "metadata": {},
   "outputs": [
    {
     "name": "stdout",
     "output_type": "stream",
     "text": [
      "Confidence range group for 99% C.I is: 0.41724314637553905 to 0.5404292153080902\n"
     ]
    }
   ],
   "source": [
    "print(\"Confidence range group for 99% C.I is: {} to {}\".format(lower,upper))"
   ]
  },
  {
   "cell_type": "markdown",
   "metadata": {},
   "source": [
    "#### So with the bootstrapping method we have found 99% confidence within the range printed above, this is the value of message delivered & Gives us holistic approach to monitor our services"
   ]
  }
 ],
 "metadata": {
  "kernelspec": {
   "display_name": "Python 3",
   "language": "python",
   "name": "python3"
  },
  "language_info": {
   "codemirror_mode": {
    "name": "ipython",
    "version": 3
   },
   "file_extension": ".py",
   "mimetype": "text/x-python",
   "name": "python",
   "nbconvert_exporter": "python",
   "pygments_lexer": "ipython3",
   "version": "3.8.5"
  }
 },
 "nbformat": 4,
 "nbformat_minor": 4
}
